{
 "cells": [
  {
   "cell_type": "markdown",
   "metadata": {},
   "source": [
    "# 环境准备"
   ]
  },
  {
   "cell_type": "markdown",
   "metadata": {
    "vscode": {
     "languageId": "plaintext"
    }
   },
   "source": [
    "### 在命令行安装必要包\n",
    "```\n",
    "pip install -r code/requirements.txt\n",
    "```"
   ]
  },
  {
   "cell_type": "code",
   "execution_count": null,
   "metadata": {},
   "outputs": [],
   "source": [
    "# 导入必要包\n",
    "from transformers import GPT2Tokenizer, GPT2LMHeadModel\n",
    "import torch\n",
    "import os\n",
    "import json\n",
    "import datasets\n",
    "from torch.utils.data import DataLoader"
   ]
  },
  {
   "cell_type": "code",
   "execution_count": null,
   "metadata": {},
   "outputs": [],
   "source": [
    "# 定义接下来要用到的变量\n",
    "model_name_or_path = \"models\\GPT-2\"  # 替换成自己的模型路径\n",
    "# model_type = \"decoder\"\n",
    "\n",
    "# 加载分词器和模型\n",
    "tokenizer = GPT2Tokenizer.from_pretrained(model_name_or_path)\n",
    "model = GPT2LMHeadModel.from_pretrained(model_name_or_path)\n",
    "\n",
    "# 定义数据路径和dataloader\n",
    "train_data_path = r\"F:\\llm-deploy\\GPT2_deploy\\data\\F_zs_cot_date_understanding_good_train.jsonl\"\n",
    "val_data_path = r\"F:\\llm-deploy\\GPT2_deploy\\data\\F_zs_cot_date_understanding_good_val.jsonl\"\n",
    "test_data_path = r\"F:\\llm-deploy\\GPT2_deploy\\data\\F_zs_cot_date_understanding_good_test.jsonl\"\n",
    "\n",
    "train_dataloader = dataloader(train_data_path)\n",
    "val_dataloader = dataloader(val_data_path)\n",
    "test_dataloader = dataloader(test_data_path)\n",
    "\n",
    "device = torch.device(\"cuda\" if torch.cuda.is_available() else \"cpu\")"
   ]
  }
 ],
 "metadata": {
  "kernelspec": {
   "display_name": "dl2",
   "language": "python",
   "name": "python3"
  },
  "language_info": {
   "name": "python",
   "version": "3.9.18"
  }
 },
 "nbformat": 4,
 "nbformat_minor": 2
}
